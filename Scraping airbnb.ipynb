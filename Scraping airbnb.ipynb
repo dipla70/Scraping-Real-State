{
 "cells": [
  {
   "cell_type": "code",
   "execution_count": 1,
   "id": "63864498",
   "metadata": {},
   "outputs": [],
   "source": [
    "from time import sleep\n",
    "\n",
    "from selenium import webdriver\n",
    "from selenium.webdriver.common.by import By\n",
    "from selenium.webdriver.chrome.options import Options\n",
    "from selenium.webdriver.chrome.service import Service\n",
    "\n",
    "from webdriver_manager.chrome import ChromeDriverManager\n",
    "\n",
    "import csv"
   ]
  },
  {
   "cell_type": "code",
   "execution_count": 2,
   "id": "140705af",
   "metadata": {},
   "outputs": [],
   "source": [
    "\n",
    "\n",
    "# Configurar opciones del navegador\n",
    "opts = Options()\n",
    "opts.add_argument(\"user-agent=Mozilla/5.0 (Macintosh; Intel Mac OS X 10_15_7) AppleWebKit/537.36 (KHTML, like Gecko) Chrome/113.0.0.0 Safari/537.36\")\n",
    "# Crear el driver usando ChromeDriverManager\n",
    "driver = webdriver.Chrome(\n",
    "    service=Service(ChromeDriverManager().install()),\n",
    "    options=opts\n",
    ")\n",
    "\n",
    "\n",
    "# Abrir una página de ejemplo\n",
    "driver.get('https://www.airbnb.com.ar/s/Pinamar--Buenos-Aires/homes?refinement_paths%5B%5D=%2Fhomes&place_id=ChIJl5r3aOWcnJURGYSMQwRXRLM&location_bb=whRJVsJjTdHCFH%2BcwmOTOw%3D%3D&acp_id=03dbdd57-6df0-4a27-a63d-009f3c8f10c4&date_picker_type=calendar&source=structured_search_input_header&search_type=autocomplete_click')\n",
    "\n",
    "\n",
    "# Esperar unos segundos\n",
    "sleep(5)"
   ]
  },
  {
   "cell_type": "code",
   "execution_count": 3,
   "id": "17a7c21e",
   "metadata": {},
   "outputs": [
    {
     "name": "stdout",
     "output_type": "stream",
     "text": [
      "$140 USD\n",
      "$114 USD\n",
      "$114 USD por 5 noches, precio original: $140 USD\n",
      "$146 USD\n",
      "$126 USD\n",
      "$126 USD por 5 noches, precio original: $146 USD\n",
      "Departamento en Pinamar, $114 USD\n",
      "$114 USD\n",
      "Cabaña ecológica en Ostende, $126 USD\n",
      "$126 USD\n",
      "Departamento en Pinamar, $277 USD\n",
      "$277 USD\n",
      "Departamento en Pinamar, $243 USD\n",
      "$243 USD\n",
      "Minicasa en Pinamar, $268 USD\n",
      "$268 USD\n",
      "Departamento en Pinamar, $160 USD\n",
      "$160 USD\n",
      "Departamento en Pinamar, $228 USD\n",
      "$228 USD\n",
      "Departamento en Pinamar, $445 USD\n",
      "$445 USD\n",
      "Departamento en Pinamar, $150 USD\n",
      "$150 USD\n",
      "Departamento en Pinamar, $149 USD\n",
      "$149 USD\n",
      "Departamento en Pinamar, $213 USD\n",
      "$213 USD\n",
      "Departamento en Pinamar, $375 USD\n",
      "$375 USD\n"
     ]
    }
   ],
   "source": [
    "\n",
    "\n",
    "price_totals = driver.find_elements(\n",
    "    By.XPATH,\n",
    "    '//span[contains(text(), \"USD\") or (contains(text(), \"precio original\"))]'\n",
    ")\n",
    "\n",
    "for price in price_totals:\n",
    "    if price.is_displayed():\n",
    "        print(price.text)\n",
    "\n",
    "# Cerrar el navegador\n",
    "# driver.quit()"
   ]
  }
 ],
 "metadata": {
  "kernelspec": {
   "display_name": "base",
   "language": "python",
   "name": "python3"
  },
  "language_info": {
   "codemirror_mode": {
    "name": "ipython",
    "version": 3
   },
   "file_extension": ".py",
   "mimetype": "text/x-python",
   "name": "python",
   "nbconvert_exporter": "python",
   "pygments_lexer": "ipython3",
   "version": "3.12.4"
  }
 },
 "nbformat": 4,
 "nbformat_minor": 5
}
