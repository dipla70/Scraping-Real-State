{
 "cells": [
  {
   "cell_type": "code",
   "execution_count": null,
   "id": "63864498",
   "metadata": {},
   "outputs": [],
   "source": [
    "from time import sleep\n",
    "\n",
    "from selenium import webdriver\n",
    "from selenium.webdriver.common.by import By\n",
    "from selenium.webdriver.chrome.options import Options\n",
    "from selenium.webdriver.chrome.service import Service\n",
    "\n",
    "from webdriver_manager.chrome import ChromeDriverManager\n",
    "\n",
    "import csv"
   ]
  },
  {
   "cell_type": "code",
   "execution_count": null,
   "id": "140705af",
   "metadata": {},
   "outputs": [],
   "source": [
    "\n",
    "\n",
    "# Configurar opciones del navegador\n",
    "opts = Options()\n",
    "opts.add_argument(\"user-agent=Mozilla/5.0 (Macintosh; Intel Mac OS X 10_15_7) AppleWebKit/537.36 (KHTML, like Gecko) Chrome/113.0.0.0 Safari/537.36\")\n",
    "# Crear el driver usando ChromeDriverManager\n",
    "driver = webdriver.Chrome(\n",
    "    service=Service(ChromeDriverManager().install()),\n",
    "    options=opts\n",
    ")\n",
    "\n",
    "\n",
    "# Abrir una página de ejemplo\n",
    "driver.get('https://www.airbnb.com.ar/s/Pinamar--Buenos-Aires/homes?refinement_paths%5B%5D=%2Fhomes&place_id=ChIJl5r3aOWcnJURGYSMQwRXRLM&location_bb=whRJVsJjTdHCFH%2BcwmOTOw%3D%3D&acp_id=03dbdd57-6df0-4a27-a63d-009f3c8f10c4&date_picker_type=calendar&source=structured_search_input_header&search_type=autocomplete_click')\n",
    "\n",
    "\n",
    "# Esperar unos segundos\n",
    "sleep(5)"
   ]
  },
  {
   "cell_type": "code",
   "execution_count": null,
   "id": "17a7c21e",
   "metadata": {},
   "outputs": [],
   "source": [
    "\n",
    "\n",
    "price_totals = driver.find_elements(\n",
    "    By.XPATH,\n",
    "    '//span[contains(text(), \"USD\") or (contains(text(), \"precio original\"))]'\n",
    ")\n",
    "\n",
    "for price in price_totals:\n",
    "    if price.is_displayed():\n",
    "        print(price.text)\n",
    "\n",
    "# Cerrar el navegador\n",
    "# driver.quit()"
   ]
  }
 ],
 "metadata": {
  "language_info": {
   "name": "python"
  }
 },
 "nbformat": 4,
 "nbformat_minor": 5
}
